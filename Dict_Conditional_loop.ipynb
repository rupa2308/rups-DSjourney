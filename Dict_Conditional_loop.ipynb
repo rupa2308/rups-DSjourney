{
 "cells": [
  {
   "cell_type": "code",
   "execution_count": 1,
   "id": "ae8780e2-fe2d-4687-80d8-d046a254a7d7",
   "metadata": {},
   "outputs": [],
   "source": [
    "s = {}"
   ]
  },
  {
   "cell_type": "code",
   "execution_count": 2,
   "id": "be144d73-4561-4e03-9bea-1956316df29f",
   "metadata": {},
   "outputs": [
    {
     "data": {
      "text/plain": [
       "dict"
      ]
     },
     "execution_count": 2,
     "metadata": {},
     "output_type": "execute_result"
    }
   ],
   "source": [
    "type(s)"
   ]
  },
  {
   "cell_type": "code",
   "execution_count": 3,
   "id": "a1b5c77f-59cc-47ad-ad6e-6b10bdd507dc",
   "metadata": {},
   "outputs": [],
   "source": [
    "s = {'key':'rups'}"
   ]
  },
  {
   "cell_type": "code",
   "execution_count": 4,
   "id": "c2631deb-df90-4082-9380-3c8845f8886e",
   "metadata": {},
   "outputs": [
    {
     "data": {
      "text/plain": [
       "{'key': 'rups'}"
      ]
     },
     "execution_count": 4,
     "metadata": {},
     "output_type": "execute_result"
    }
   ],
   "source": [
    "s"
   ]
  },
  {
   "cell_type": "code",
   "execution_count": 5,
   "id": "694badb5-5e1f-41ce-a886-641f4f3d9cd8",
   "metadata": {},
   "outputs": [
    {
     "data": {
      "text/plain": [
       "'rups'"
      ]
     },
     "execution_count": 5,
     "metadata": {},
     "output_type": "execute_result"
    }
   ],
   "source": [
    "s['key']"
   ]
  },
  {
   "cell_type": "code",
   "execution_count": 30,
   "id": "79f72cd5-c639-4d29-8626-dc3970112914",
   "metadata": {},
   "outputs": [],
   "source": [
    "dict = {'name': 'rupa', 'email': 'kri.rupa23@gmail.com', 'number': '408243', 'name': 'rups'}"
   ]
  },
  {
   "cell_type": "code",
   "execution_count": 31,
   "id": "e15e4e4b-583b-4601-bbd5-bbd6b0dd4a8d",
   "metadata": {},
   "outputs": [
    {
     "data": {
      "text/plain": [
       "'rups'"
      ]
     },
     "execution_count": 31,
     "metadata": {},
     "output_type": "execute_result"
    }
   ],
   "source": [
    "dict['name']"
   ]
  },
  {
   "cell_type": "code",
   "execution_count": 10,
   "id": "9f061b59-82da-42a8-ba23-978ee6822312",
   "metadata": {},
   "outputs": [
    {
     "ename": "SyntaxError",
     "evalue": "invalid syntax (1751063191.py, line 1)",
     "output_type": "error",
     "traceback": [
      "\u001b[0;36m  Cell \u001b[0;32mIn[10], line 1\u001b[0;36m\u001b[0m\n\u001b[0;31m    dict{1}\u001b[0m\n\u001b[0m        ^\u001b[0m\n\u001b[0;31mSyntaxError\u001b[0m\u001b[0;31m:\u001b[0m invalid syntax\n"
     ]
    }
   ],
   "source": [
    "dict{1}"
   ]
  },
  {
   "cell_type": "code",
   "execution_count": 12,
   "id": "09f511a5-0bd2-42c3-9ec3-3616b8e7adc0",
   "metadata": {},
   "outputs": [
    {
     "ename": "SyntaxError",
     "evalue": "invalid syntax (1647914479.py, line 1)",
     "output_type": "error",
     "traceback": [
      "\u001b[0;36m  Cell \u001b[0;32mIn[12], line 1\u001b[0;36m\u001b[0m\n\u001b[0;31m    d2 = {123: 'sudh', @rev: 'sdfs'}\u001b[0m\n\u001b[0m                       ^\u001b[0m\n\u001b[0;31mSyntaxError\u001b[0m\u001b[0;31m:\u001b[0m invalid syntax\n"
     ]
    }
   ],
   "source": [
    "d2 = {123: 'sudh', @rev: 'sdfs'}"
   ]
  },
  {
   "cell_type": "code",
   "execution_count": 16,
   "id": "02573696-9c71-4b9e-8c87-a7832b685a84",
   "metadata": {},
   "outputs": [],
   "source": [
    "d2 = {123: 'sudh', '@rev': 'sdfs', True: 'fsdjh', False: 23423}"
   ]
  },
  {
   "cell_type": "code",
   "execution_count": 17,
   "id": "531bbd36-bd07-4b79-b7ea-1ea6422ed0ba",
   "metadata": {},
   "outputs": [
    {
     "data": {
      "text/plain": [
       "{123: 'sudh', '@rev': 'sdfs', True: 'fsdjh', False: 23423}"
      ]
     },
     "execution_count": 17,
     "metadata": {},
     "output_type": "execute_result"
    }
   ],
   "source": [
    "d2"
   ]
  },
  {
   "cell_type": "code",
   "execution_count": null,
   "id": "2b5d509d-0885-43ef-a80a-d3a62b821baf",
   "metadata": {},
   "outputs": [],
   "source": [
    "#special case is not allowed in dictionary"
   ]
  },
  {
   "cell_type": "code",
   "execution_count": 20,
   "id": "b35f4840-7902-4609-9b66-23af0247ebae",
   "metadata": {},
   "outputs": [
    {
     "data": {
      "text/plain": [
       "'sudh'"
      ]
     },
     "execution_count": 20,
     "metadata": {},
     "output_type": "execute_result"
    }
   ],
   "source": [
    "d2[123]"
   ]
  },
  {
   "cell_type": "code",
   "execution_count": 21,
   "id": "4e9bb9c2-7af6-4698-85e3-d087744c637c",
   "metadata": {},
   "outputs": [
    {
     "data": {
      "text/plain": [
       "'fsdjh'"
      ]
     },
     "execution_count": 21,
     "metadata": {},
     "output_type": "execute_result"
    }
   ],
   "source": [
    "d2[1]"
   ]
  },
  {
   "cell_type": "code",
   "execution_count": 22,
   "id": "bf5091ab-77ae-4992-abb0-474bdaf8b222",
   "metadata": {},
   "outputs": [
    {
     "data": {
      "text/plain": [
       "{123: 'sudh', '@rev': 'sdfs', True: 'fsdjh', False: 23423}"
      ]
     },
     "execution_count": 22,
     "metadata": {},
     "output_type": "execute_result"
    }
   ],
   "source": [
    "d2"
   ]
  },
  {
   "cell_type": "code",
   "execution_count": 23,
   "id": "6019bece-daba-4724-9cc4-2136c09322b2",
   "metadata": {},
   "outputs": [
    {
     "data": {
      "text/plain": [
       "23423"
      ]
     },
     "execution_count": 23,
     "metadata": {},
     "output_type": "execute_result"
    }
   ],
   "source": [
    "d2[0]"
   ]
  },
  {
   "cell_type": "code",
   "execution_count": 24,
   "id": "a866bb14-91cd-4f0d-8bf0-79b3115cb281",
   "metadata": {},
   "outputs": [
    {
     "data": {
      "text/plain": [
       "'fsdjh'"
      ]
     },
     "execution_count": 24,
     "metadata": {},
     "output_type": "execute_result"
    }
   ],
   "source": [
    "d2[True]"
   ]
  },
  {
   "cell_type": "code",
   "execution_count": 29,
   "id": "00050345-0079-48fb-868a-1c861ac76884",
   "metadata": {},
   "outputs": [
    {
     "data": {
      "text/plain": [
       "{'name': 'rups', 'email': 'kri.rupa23@gmail.com', 'number': '408243'}"
      ]
     },
     "execution_count": 29,
     "metadata": {},
     "output_type": "execute_result"
    }
   ],
   "source": [
    "dict"
   ]
  },
  {
   "cell_type": "code",
   "execution_count": 32,
   "id": "3578b30f-372e-4e82-8412-38510393a0a6",
   "metadata": {},
   "outputs": [
    {
     "data": {
      "text/plain": [
       "'rups'"
      ]
     },
     "execution_count": 32,
     "metadata": {},
     "output_type": "execute_result"
    }
   ],
   "source": [
    "dict['name']"
   ]
  },
  {
   "cell_type": "code",
   "execution_count": 33,
   "id": "ec2aeb6d-8cf7-453d-a460-183038453e48",
   "metadata": {},
   "outputs": [],
   "source": [
    "#Key always maintains a unique value"
   ]
  },
  {
   "cell_type": "code",
   "execution_count": 41,
   "id": "2add1a93-542e-4417-bf87-0042d31476b5",
   "metadata": {},
   "outputs": [],
   "source": [
    "d5 = {'company': 'pwskills', 'courses': ['Python','DS','DA','BigData','ML','AI']}"
   ]
  },
  {
   "cell_type": "code",
   "execution_count": 42,
   "id": "435ee3bf-3477-4a84-bd58-8f2cba7fc5c9",
   "metadata": {},
   "outputs": [
    {
     "data": {
      "text/plain": [
       "{'company': 'pwskills',\n",
       " 'courses': ['Python', 'DS', 'DA', 'BigData', 'ML', 'AI']}"
      ]
     },
     "execution_count": 42,
     "metadata": {},
     "output_type": "execute_result"
    }
   ],
   "source": [
    "d5"
   ]
  },
  {
   "cell_type": "code",
   "execution_count": 43,
   "id": "d7e5ac1b-9592-47b5-806d-3819f490193a",
   "metadata": {},
   "outputs": [
    {
     "data": {
      "text/plain": [
       "['Python', 'DS', 'DA', 'BigData', 'ML', 'AI']"
      ]
     },
     "execution_count": 43,
     "metadata": {},
     "output_type": "execute_result"
    }
   ],
   "source": [
    "d5['courses']"
   ]
  },
  {
   "cell_type": "code",
   "execution_count": 44,
   "id": "1ef45b26-e4bd-4846-9ee0-0a3e76be034f",
   "metadata": {},
   "outputs": [
    {
     "data": {
      "text/plain": [
       "'DA'"
      ]
     },
     "execution_count": 44,
     "metadata": {},
     "output_type": "execute_result"
    }
   ],
   "source": [
    "d5['courses'][2]"
   ]
  },
  {
   "cell_type": "code",
   "execution_count": 48,
   "id": "a7119b28-7fd6-4f2c-9b0b-d21acba16605",
   "metadata": {},
   "outputs": [],
   "source": [
    "d6 = {'number':[2,34,3,34], 'assignments': (1,2,3,4,5,6), 'launch_date':{12,21,25}, 'class_time':{'webDev':8,'Java': '10AM','DS': '12PM'}}"
   ]
  },
  {
   "cell_type": "code",
   "execution_count": 49,
   "id": "874ca01b-603d-43bf-894d-d8be98af3398",
   "metadata": {},
   "outputs": [
    {
     "data": {
      "text/plain": [
       "{'number': [2, 34, 3, 34],\n",
       " 'assignments': (1, 2, 3, 4, 5, 6),\n",
       " 'launch_date': {12, 21, 25},\n",
       " 'class_time': {'webDev': 8, 'Java': '10AM', 'DS': '12PM'}}"
      ]
     },
     "execution_count": 49,
     "metadata": {},
     "output_type": "execute_result"
    }
   ],
   "source": [
    "d6"
   ]
  },
  {
   "cell_type": "code",
   "execution_count": 50,
   "id": "c3c9e097-54b7-45ac-8845-593545a5295b",
   "metadata": {},
   "outputs": [],
   "source": [
    "#can do nesting by keeping dict inside dict"
   ]
  },
  {
   "cell_type": "code",
   "execution_count": 52,
   "id": "3bb4783c-9bf6-4f76-9eda-06fed11e4e9d",
   "metadata": {},
   "outputs": [
    {
     "data": {
      "text/plain": [
       "'12PM'"
      ]
     },
     "execution_count": 52,
     "metadata": {},
     "output_type": "execute_result"
    }
   ],
   "source": [
    "d6['class_time']['DS']"
   ]
  },
  {
   "cell_type": "code",
   "execution_count": 53,
   "id": "72d5b0d8-f5b3-4891-95da-51f65d0136e7",
   "metadata": {},
   "outputs": [],
   "source": [
    "d6[\"mentor\"] = [\"Sudhanshu\",\"Krish\",\"Hyder\"]"
   ]
  },
  {
   "cell_type": "code",
   "execution_count": 54,
   "id": "eacd57f5-4d08-4aba-94f5-37d44f044c31",
   "metadata": {},
   "outputs": [
    {
     "data": {
      "text/plain": [
       "{'number': [2, 34, 3, 34],\n",
       " 'assignments': (1, 2, 3, 4, 5, 6),\n",
       " 'launch_date': {12, 21, 25},\n",
       " 'class_time': {'webDev': 8, 'Java': '10AM', 'DS': '12PM'},\n",
       " 'mentor': ['Sudhanshu', 'Krish', 'Hyder']}"
      ]
     },
     "execution_count": 54,
     "metadata": {},
     "output_type": "execute_result"
    }
   ],
   "source": [
    "d6"
   ]
  },
  {
   "cell_type": "code",
   "execution_count": 55,
   "id": "75d74c2b-0b6e-4410-aedc-3637fb4d0940",
   "metadata": {},
   "outputs": [],
   "source": [
    "d6[\"mentor\"] = [\"Sudhanshu\",\"Krish\",\"Hyder\",\"Anurag\"]"
   ]
  },
  {
   "cell_type": "code",
   "execution_count": 56,
   "id": "80359de1-a189-4566-97a9-ddeb0dcf64b3",
   "metadata": {},
   "outputs": [
    {
     "data": {
      "text/plain": [
       "{'number': [2, 34, 3, 34],\n",
       " 'assignments': (1, 2, 3, 4, 5, 6),\n",
       " 'launch_date': {12, 21, 25},\n",
       " 'class_time': {'webDev': 8, 'Java': '10AM', 'DS': '12PM'},\n",
       " 'mentor': ['Sudhanshu', 'Krish', 'Hyder', 'Anurag']}"
      ]
     },
     "execution_count": 56,
     "metadata": {},
     "output_type": "execute_result"
    }
   ],
   "source": [
    "d6"
   ]
  },
  {
   "cell_type": "code",
   "execution_count": 57,
   "id": "c656fdcd-4be6-452b-bbe5-7c037fd3812a",
   "metadata": {},
   "outputs": [],
   "source": [
    "#if key is available b4 hand then it will only update the values else it will add key and values both"
   ]
  },
  {
   "cell_type": "code",
   "execution_count": 58,
   "id": "81a63bfe-b068-448d-a453-d0f80da50350",
   "metadata": {},
   "outputs": [],
   "source": [
    "del d6['number']"
   ]
  },
  {
   "cell_type": "code",
   "execution_count": 59,
   "id": "248bdd35-038c-4542-a326-66d90364d9e4",
   "metadata": {},
   "outputs": [
    {
     "data": {
      "text/plain": [
       "{'assignments': (1, 2, 3, 4, 5, 6),\n",
       " 'launch_date': {12, 21, 25},\n",
       " 'class_time': {'webDev': 8, 'Java': '10AM', 'DS': '12PM'},\n",
       " 'mentor': ['Sudhanshu', 'Krish', 'Hyder', 'Anurag']}"
      ]
     },
     "execution_count": 59,
     "metadata": {},
     "output_type": "execute_result"
    }
   ],
   "source": [
    "d6"
   ]
  },
  {
   "cell_type": "code",
   "execution_count": 60,
   "id": "b766adb6-94bb-446f-b8c3-d38b4e5b1e28",
   "metadata": {},
   "outputs": [
    {
     "data": {
      "text/plain": [
       "dict_keys(['assignments', 'launch_date', 'class_time', 'mentor'])"
      ]
     },
     "execution_count": 60,
     "metadata": {},
     "output_type": "execute_result"
    }
   ],
   "source": [
    "d6.keys()"
   ]
  },
  {
   "cell_type": "code",
   "execution_count": 64,
   "id": "15363ba7-c8c7-4e7b-a9fc-d0ce6d40755c",
   "metadata": {},
   "outputs": [
    {
     "data": {
      "text/plain": [
       "['assignments', 'launch_date', 'class_time', 'mentor']"
      ]
     },
     "execution_count": 64,
     "metadata": {},
     "output_type": "execute_result"
    }
   ],
   "source": [
    "list(d6.keys())"
   ]
  },
  {
   "cell_type": "code",
   "execution_count": 65,
   "id": "7164e2e1-044c-4fbf-a3a2-a38a232450dc",
   "metadata": {},
   "outputs": [
    {
     "data": {
      "text/plain": [
       "[(1, 2, 3, 4, 5, 6),\n",
       " {12, 21, 25},\n",
       " {'webDev': 8, 'Java': '10AM', 'DS': '12PM'},\n",
       " ['Sudhanshu', 'Krish', 'Hyder', 'Anurag']]"
      ]
     },
     "execution_count": 65,
     "metadata": {},
     "output_type": "execute_result"
    }
   ],
   "source": [
    "list(d6.values())"
   ]
  },
  {
   "cell_type": "code",
   "execution_count": 66,
   "id": "4f4ed010-d8cb-4197-9666-ac3c5e1435f5",
   "metadata": {},
   "outputs": [
    {
     "data": {
      "text/plain": [
       "[('assignments', (1, 2, 3, 4, 5, 6)),\n",
       " ('launch_date', {12, 21, 25}),\n",
       " ('class_time', {'webDev': 8, 'Java': '10AM', 'DS': '12PM'}),\n",
       " ('mentor', ['Sudhanshu', 'Krish', 'Hyder', 'Anurag'])]"
      ]
     },
     "execution_count": 66,
     "metadata": {},
     "output_type": "execute_result"
    }
   ],
   "source": [
    "list(d6.items())"
   ]
  },
  {
   "cell_type": "code",
   "execution_count": 67,
   "id": "b20cbe22-a767-4cc9-a8c2-1edff2e44b38",
   "metadata": {},
   "outputs": [
    {
     "data": {
      "text/plain": [
       "{'assignments': (1, 2, 3, 4, 5, 6),\n",
       " 'launch_date': {12, 21, 25},\n",
       " 'class_time': {'webDev': 8, 'Java': '10AM', 'DS': '12PM'},\n",
       " 'mentor': ['Sudhanshu', 'Krish', 'Hyder', 'Anurag']}"
      ]
     },
     "execution_count": 67,
     "metadata": {},
     "output_type": "execute_result"
    }
   ],
   "source": [
    "d6"
   ]
  },
  {
   "cell_type": "code",
   "execution_count": 68,
   "id": "1fb2fa78-ad91-428f-b73f-b9288bed1f5b",
   "metadata": {},
   "outputs": [
    {
     "ename": "TypeError",
     "evalue": "pop expected at least 1 argument, got 0",
     "output_type": "error",
     "traceback": [
      "\u001b[0;31m---------------------------------------------------------------------------\u001b[0m",
      "\u001b[0;31mTypeError\u001b[0m                                 Traceback (most recent call last)",
      "Cell \u001b[0;32mIn[68], line 1\u001b[0m\n\u001b[0;32m----> 1\u001b[0m \u001b[43md6\u001b[49m\u001b[38;5;241;43m.\u001b[39;49m\u001b[43mpop\u001b[49m\u001b[43m(\u001b[49m\u001b[43m)\u001b[49m\n",
      "\u001b[0;31mTypeError\u001b[0m: pop expected at least 1 argument, got 0"
     ]
    }
   ],
   "source": [
    "d6.pop()  #there is no last or first value in dictionary, it's based on key value pair, so pop will not work without key"
   ]
  },
  {
   "cell_type": "code",
   "execution_count": 1,
   "id": "b5a62864-03b3-4abf-99d2-f55056c99241",
   "metadata": {},
   "outputs": [],
   "source": [
    "#Dictionary is mutable"
   ]
  },
  {
   "cell_type": "code",
   "execution_count": 8,
   "id": "a106b778-f330-46aa-b7f9-4db1354919f8",
   "metadata": {},
   "outputs": [
    {
     "name": "stdin",
     "output_type": "stream",
     "text": [
      "enter your marks :  68\n"
     ]
    },
    {
     "name": "stdout",
     "output_type": "stream",
     "text": [
      "you will be a part of A1 batch\n"
     ]
    }
   ],
   "source": [
    "marks = int(input(\"enter your marks : \"))\n",
    "if marks >= 80:\n",
    "    print(\"you will be a part of A0 batch\")\n",
    "elif marks >= 60 and marks <80:\n",
    "    print(\"you will be a part of A1 batch\")\n",
    "elif marks >=40 and marks <60:\n",
    "    print(\"you will be a part of A2 batch\")\n",
    "else:\n",
    "    print(\"you will be a part of A3 batch\")\n",
    "    "
   ]
  },
  {
   "cell_type": "code",
   "execution_count": 9,
   "id": "20f5e5cb-8241-4241-b9fd-6a0c2c4040fa",
   "metadata": {},
   "outputs": [
    {
     "name": "stdin",
     "output_type": "stream",
     "text": [
      "enter your marks :  56\n"
     ]
    }
   ],
   "source": [
    "marks = input(\"enter your marks : \")"
   ]
  },
  {
   "cell_type": "code",
   "execution_count": 10,
   "id": "c89e3ae7-e023-462a-819e-bbd3f20547a7",
   "metadata": {},
   "outputs": [
    {
     "data": {
      "text/plain": [
       "'56'"
      ]
     },
     "execution_count": 10,
     "metadata": {},
     "output_type": "execute_result"
    }
   ],
   "source": [
    "marks"
   ]
  },
  {
   "cell_type": "code",
   "execution_count": 11,
   "id": "51aa72b3-ec7a-4d2c-bb9a-4c693633d320",
   "metadata": {},
   "outputs": [
    {
     "name": "stdin",
     "output_type": "stream",
     "text": [
      "enter price :  54938\n"
     ]
    },
    {
     "name": "stdout",
     "output_type": "stream",
     "text": [
      "i will not purchase the item\n"
     ]
    }
   ],
   "source": [
    "price = int(input(\"enter price : \"))\n",
    "if price > 1000:\n",
    "    print(\"i will not purchase the item\")\n",
    "else:\n",
    "    print(\"i will purchase the item\")"
   ]
  },
  {
   "cell_type": "code",
   "execution_count": 2,
   "id": "7eeec537-967a-4596-a5a4-cd2a7f12e5e0",
   "metadata": {},
   "outputs": [
    {
     "name": "stdin",
     "output_type": "stream",
     "text": [
      "enter price :  500\n"
     ]
    },
    {
     "name": "stdout",
     "output_type": "stream",
     "text": [
      "not interested\n",
      "i will not purchase\n",
      "it's okay\n"
     ]
    }
   ],
   "source": [
    "price = int(input(\"enter price : \"))\n",
    "if price > 1000:\n",
    "    print(\"i will not purchase the item\")\n",
    "    if price > 5000:\n",
    "        print(\"this is too much\")\n",
    "    elif price < 2000:\n",
    "        print(\"it's okay\")\n",
    "elif price <1000:\n",
    "    print(\"not interested\")\n",
    "    print(\"i will not purchase\")\n",
    "    if price > 5000:\n",
    "        print(\"this is too much\")\n",
    "    elif price < 2000:\n",
    "        print(\"it's okay\")\n",
    "else:\n",
    "    print(\"not interested\")\n",
    "    print(\"i will not purchase\")\n",
    "    if price > 5000:\n",
    "        print(\"this is too much\")\n",
    "    elif price < 2000:\n",
    "        print(\"it's okay\")"
   ]
  },
  {
   "cell_type": "code",
   "execution_count": 18,
   "id": "e7346f20-366b-43c2-a362-f76c6a0e75d9",
   "metadata": {},
   "outputs": [],
   "source": [
    "l = [1,2,3,4,5,6,7]"
   ]
  },
  {
   "cell_type": "code",
   "execution_count": 19,
   "id": "723cf53e-8dc0-45ab-bfec-1a1a56de1f8d",
   "metadata": {},
   "outputs": [
    {
     "data": {
      "text/plain": [
       "[1, 2, 3, 4, 5, 6, 7]"
      ]
     },
     "execution_count": 19,
     "metadata": {},
     "output_type": "execute_result"
    }
   ],
   "source": [
    "l"
   ]
  },
  {
   "cell_type": "code",
   "execution_count": 8,
   "id": "645f873f-4747-4f7f-8010-2f13977bcda4",
   "metadata": {},
   "outputs": [],
   "source": [
    "l = l[0] +1"
   ]
  },
  {
   "cell_type": "code",
   "execution_count": 9,
   "id": "f2e7c043-6513-4454-9090-141db6f36713",
   "metadata": {},
   "outputs": [
    {
     "data": {
      "text/plain": [
       "2"
      ]
     },
     "execution_count": 9,
     "metadata": {},
     "output_type": "execute_result"
    }
   ],
   "source": [
    "l"
   ]
  },
  {
   "cell_type": "code",
   "execution_count": 13,
   "id": "1ca2402e-ffb5-4ef2-9880-39d8725be89f",
   "metadata": {},
   "outputs": [],
   "source": [
    "l1=[]"
   ]
  },
  {
   "cell_type": "code",
   "execution_count": 14,
   "id": "2c50fe7b-0077-45d6-b500-d542d7dcb1f9",
   "metadata": {},
   "outputs": [
    {
     "data": {
      "text/plain": [
       "[]"
      ]
     },
     "execution_count": 14,
     "metadata": {},
     "output_type": "execute_result"
    }
   ],
   "source": [
    "l1"
   ]
  },
  {
   "cell_type": "code",
   "execution_count": 20,
   "id": "e702d87e-4861-4cb6-9179-4bf538fed953",
   "metadata": {},
   "outputs": [],
   "source": [
    "l1.append(l[0]+1)"
   ]
  },
  {
   "cell_type": "code",
   "execution_count": 21,
   "id": "6e871f2c-87dc-4f49-88ff-541d15f6942f",
   "metadata": {},
   "outputs": [
    {
     "data": {
      "text/plain": [
       "[2]"
      ]
     },
     "execution_count": 21,
     "metadata": {},
     "output_type": "execute_result"
    }
   ],
   "source": [
    "l1"
   ]
  },
  {
   "cell_type": "code",
   "execution_count": 22,
   "id": "980c1e57-2a4e-4bbe-b737-7c2e69a2d21b",
   "metadata": {},
   "outputs": [
    {
     "data": {
      "text/plain": [
       "[1, 2, 3, 4, 5, 6, 7]"
      ]
     },
     "execution_count": 22,
     "metadata": {},
     "output_type": "execute_result"
    }
   ],
   "source": [
    "l"
   ]
  },
  {
   "cell_type": "code",
   "execution_count": 28,
   "id": "e7282472-4375-454c-9f83-8c0c07aacedc",
   "metadata": {},
   "outputs": [
    {
     "name": "stdout",
     "output_type": "stream",
     "text": [
      "2\n",
      "3\n",
      "4\n",
      "5\n",
      "6\n",
      "7\n",
      "8\n"
     ]
    },
    {
     "data": {
      "text/plain": [
       "[2, 3, 4, 5, 6, 7, 8]"
      ]
     },
     "execution_count": 28,
     "metadata": {},
     "output_type": "execute_result"
    }
   ],
   "source": [
    "l2 =[]\n",
    "for i in l:\n",
    "    print(i+1)\n",
    "    l2.append(i+1)\n",
    "l2"
   ]
  },
  {
   "cell_type": "code",
   "execution_count": 36,
   "id": "40bf43f7-0b5c-4bd4-8b27-37448dd60f44",
   "metadata": {},
   "outputs": [
    {
     "name": "stdout",
     "output_type": "stream",
     "text": [
      "['SUDH', 'KRISH', 'ANURAG', 'HAMAD']\n"
     ]
    }
   ],
   "source": [
    "l = [\"sudh\",\"krish\",\"anurag\",\"hamad\"]\n",
    "l1 =[]\n",
    "for i in l:\n",
    "    #print(i)\n",
    "    l1.append(i.upper())\n",
    "print(l1)"
   ]
  },
  {
   "cell_type": "code",
   "execution_count": 32,
   "id": "2f5d9711-7e31-49ed-a40a-210718a7e298",
   "metadata": {},
   "outputs": [
    {
     "data": {
      "text/plain": [
       "['SUDH', 'KRISH', 'ANURAG', 'HAMAD']"
      ]
     },
     "execution_count": 32,
     "metadata": {},
     "output_type": "execute_result"
    }
   ],
   "source": [
    "l1"
   ]
  },
  {
   "cell_type": "code",
   "execution_count": 37,
   "id": "13de4f40-e9c7-4aab-b4b8-19cfe90cee2a",
   "metadata": {},
   "outputs": [],
   "source": [
    "l4 = [1,3,4, \"sudh\", \"sda\",34.234, \"kumar\",322]"
   ]
  },
  {
   "cell_type": "code",
   "execution_count": 38,
   "id": "d26e963b-7e50-44b0-9bdb-9a4d3d495080",
   "metadata": {},
   "outputs": [
    {
     "data": {
      "text/plain": [
       "[1, 3, 4, 'sudh', 'sda', 34.234, 'kumar', 322]"
      ]
     },
     "execution_count": 38,
     "metadata": {},
     "output_type": "execute_result"
    }
   ],
   "source": [
    "l4"
   ]
  },
  {
   "cell_type": "code",
   "execution_count": 39,
   "id": "393c9308-2499-4907-8b34-534116b73be5",
   "metadata": {},
   "outputs": [],
   "source": [
    "l5_num = []\n",
    "l6_str = []\n",
    "for i in l4:\n",
    "    if type(i)== int or type(i)==float:\n",
    "        l5_num.append(i)\n",
    "    else:\n",
    "        l6_str.append(i)\n",
    "        "
   ]
  },
  {
   "cell_type": "code",
   "execution_count": 41,
   "id": "1f8a2a4b-4202-4a0c-84ba-6f82b81e5173",
   "metadata": {},
   "outputs": [
    {
     "data": {
      "text/plain": [
       "[1, 3, 4, 34.234, 322]"
      ]
     },
     "execution_count": 41,
     "metadata": {},
     "output_type": "execute_result"
    }
   ],
   "source": [
    "l5_num"
   ]
  },
  {
   "cell_type": "code",
   "execution_count": 42,
   "id": "995220c7-1874-4067-8011-3b5dda134d80",
   "metadata": {},
   "outputs": [
    {
     "data": {
      "text/plain": [
       "['sudh', 'sda', 'kumar']"
      ]
     },
     "execution_count": 42,
     "metadata": {},
     "output_type": "execute_result"
    }
   ],
   "source": [
    "l6_str"
   ]
  },
  {
   "cell_type": "code",
   "execution_count": null,
   "id": "926a1d24-b4de-4eff-b19a-76bdfc431d96",
   "metadata": {},
   "outputs": [],
   "source": []
  }
 ],
 "metadata": {
  "kernelspec": {
   "display_name": "Python 3 (ipykernel)",
   "language": "python",
   "name": "python3"
  },
  "language_info": {
   "codemirror_mode": {
    "name": "ipython",
    "version": 3
   },
   "file_extension": ".py",
   "mimetype": "text/x-python",
   "name": "python",
   "nbconvert_exporter": "python",
   "pygments_lexer": "ipython3",
   "version": "3.10.8"
  }
 },
 "nbformat": 4,
 "nbformat_minor": 5
}
